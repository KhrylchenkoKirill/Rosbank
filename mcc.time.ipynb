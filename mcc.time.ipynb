{
 "cells": [
  {
   "cell_type": "code",
   "execution_count": 2,
   "metadata": {},
   "outputs": [],
   "source": [
    "import numpy as np, pandas as pd\n",
    "from collections import Counter\n",
    "import datetime\n",
    "from rosbank import cashflow"
   ]
  },
  {
   "cell_type": "code",
   "execution_count": 2,
   "metadata": {
    "collapsed": true
   },
   "outputs": [],
   "source": [
    "train = pd.read_csv(\"./train.csv\")\n",
    "test = pd.read_csv(\"./test.csv\")\n",
    "labels = np.load('./labels.npy')\n",
    "for df in [train, test]:\n",
    "    df['date'] = df['date'].apply(lambda x: datetime.date(int(x[:4]), int(x[5:7]), int(x[8:])))\n",
    "    df['time'] = df['time'].apply(lambda x: datetime.time(int(x[:2]), int(x[3:5]), int(x[6:])))"
   ]
  },
  {
   "cell_type": "code",
   "execution_count": 3,
   "metadata": {
    "collapsed": true
   },
   "outputs": [],
   "source": [
    "trx_categories = list(set(train['trx_category'].unique()))\n",
    "category_signs = {\n",
    "    'POS': -1, 'DEPOSIT': 1, 'C2C_OUT': -1, 'C2C_IN': 1, 'WD_ATM_PARTNER': -1, 'WD_ATM_ROS': -1, \n",
    "    'BACK_TRX': 1, 'WD_ATM_OTHER': -1, 'CASH_ADV': -1, 'CAT': -1\n",
    "}\n",
    "oldest_date = np.min(train['date'].values)"
   ]
  },
  {
   "cell_type": "code",
   "execution_count": 5,
   "metadata": {
    "collapsed": true
   },
   "outputs": [],
   "source": [
    "mcc_descr = np.load(\"./mcc_codes.npy\").item()\n",
    "mcc_groups = list(set([mcc_descr[el]['group'] for el in mcc_descr]))\n",
    "\n",
    "hc_groups = np.load(\"./handcrafted_mcc_groups.npy\").item()\n",
    "hc_descr = {}\n",
    "for group in hc_groups:\n",
    "    for el in hc_groups[group]:\n",
    "        hc_descr[el] = group\n",
    "for el in [el for el in mcc_descr if not el in hc_descr]:\n",
    "    hc_descr[el] = 'other'\n",
    "    \n",
    "hc_groups = list(set([hc_descr[el] for el in hc_descr]))"
   ]
  },
  {
   "cell_type": "code",
   "execution_count": 6,
   "metadata": {
    "collapsed": true
   },
   "outputs": [],
   "source": [
    "def analyze_dates(dates):\n",
    "    features = []\n",
    "    if len(dates) == 0.:\n",
    "        features += [0] * 4\n",
    "    else:\n",
    "        features += [(np.max(dates) - np.min(dates)).days/365]\n",
    "        \n",
    "        time = [(date - oldest_date).days/360 for date in dates]\n",
    "        features += [np.min(time), np.max(time), np.std(time)]\n",
    "    if len(dates) > 1.:\n",
    "        diff = [(dates[i+1] - dates[i]).days/365 for i in np.arange(len(dates)-1)]\n",
    "        features += [np.max(diff), np.std(diff)]\n",
    "    else:\n",
    "        features += [0] * 2\n",
    "    dates = sorted(list(set(dates)))\n",
    "    if len(dates) > 1:\n",
    "        diff = [(dates[i+1] - dates[i]).days/365 for i in np.arange(len(dates)-1)]\n",
    "        features += [np.mean(diff), np.median(diff)]\n",
    "    else:\n",
    "        features += [0] * 2\n",
    "    return features"
   ]
  },
  {
   "cell_type": "code",
   "execution_count": 7,
   "metadata": {
    "collapsed": true
   },
   "outputs": [],
   "source": [
    "def analyze_history(user):\n",
    "    if user.shape[0] == 0.:\n",
    "        return [0] * ((len(hc_groups) + len(trx_categories) + 1) * 8)\n",
    "    history = cashflow(user)\n",
    "    features = []\n",
    "    \n",
    "    ########\n",
    "    hc_dates = {}\n",
    "    trx_dates = {}\n",
    "    dates = []\n",
    "    for name in hc_groups:\n",
    "        hc_dates[name] = []\n",
    "    for name in trx_categories:\n",
    "        trx_dates[name] = []\n",
    "    ########  \n",
    "    for date in history:\n",
    "        for trx_category in history[date]:\n",
    "            trx_sign = category_signs[trx_category]\n",
    "            for mcc_category in history[date][trx_category]:\n",
    "                hc_dates[hc_descr[mcc_category]] += [date]\n",
    "                dates += [date]\n",
    "                trx_dates[trx_category] += [date]\n",
    "                #mcc_dates[mcc_descr[mcc_category]['group']] += [date]\n",
    "    ########\n",
    "    for name in hc_groups:\n",
    "        features += analyze_dates(hc_dates[name])\n",
    "    for name in trx_categories:\n",
    "        features += analyze_dates(trx_dates[name])\n",
    "    #for name in mcc_groups:\n",
    "    #    features += analyze_dates(mcc_dates[name])\n",
    "    for arr in [dates]:\n",
    "        features += analyze_dates(dates)\n",
    "    return features"
   ]
  },
  {
   "cell_type": "code",
   "execution_count": 8,
   "metadata": {
    "collapsed": true
   },
   "outputs": [],
   "source": [
    "def analyze(user):\n",
    "    features = []\n",
    "    features += analyze_history(user)\n",
    "    last_date = np.max(user['date'].values)\n",
    "    for n in [31]:\n",
    "        features += analyze_history(user[user['date'].apply(lambda x: (last_date - x).days <= n)])\n",
    "        \n",
    "    dates = sorted(user[user['trx_category'] == 'POS']['date'].values)\n",
    "    months = [date.month for date in dates]\n",
    "    diff_months = []\n",
    "    for month in months:\n",
    "        if not month in diff_months:\n",
    "            diff_months.append(month)\n",
    "    \n",
    "    features += [len(diff_months)]\n",
    "\n",
    "    if len(months) > 0:\n",
    "        if diff_months[0] in [1, 2, 3]:\n",
    "            features += [1, 0, 0, 0]\n",
    "        elif diff_months[0] in [4, 5, 6]:\n",
    "            features += [0, 1, 0, 0]\n",
    "        elif diff_months[0] in [7, 8, 9]:\n",
    "            features += [0, 0, 1, 0]\n",
    "        else:\n",
    "            features += [0, 0, 0, 1]\n",
    "    else:\n",
    "        features += [0] * 4\n",
    "    return features"
   ]
  },
  {
   "cell_type": "code",
   "execution_count": null,
   "metadata": {
    "collapsed": true
   },
   "outputs": [],
   "source": [
    "from sklearn.model_selection import train_test_split, StratifiedKFold\n",
    "from sklearn.metrics import roc_auc_score, log_loss\n",
    "from sklearn.model_selection import RepeatedStratifiedKFold\n",
    "skf = RepeatedStratifiedKFold(n_splits=8, n_repeats=2, random_state=201805)\n",
    "import lightgbm as lgb"
   ]
  },
  {
   "cell_type": "code",
   "execution_count": 9,
   "metadata": {},
   "outputs": [
    {
     "name": "stdout",
     "output_type": "stream",
     "text": [
      "[50]\tcv_agg's auc: 0.847157 + 0.0115189\n",
      "[100]\tcv_agg's auc: 0.849555 + 0.0113101\n",
      "[150]\tcv_agg's auc: 0.850872 + 0.0110204\n",
      "[200]\tcv_agg's auc: 0.852441 + 0.0108217\n",
      "[250]\tcv_agg's auc: 0.853596 + 0.0109287\n",
      "[300]\tcv_agg's auc: 0.854486 + 0.0108069\n",
      "[350]\tcv_agg's auc: 0.855023 + 0.0107556\n",
      "[400]\tcv_agg's auc: 0.855316 + 0.0110262\n",
      "[450]\tcv_agg's auc: 0.855778 + 0.0110777\n",
      "[500]\tcv_agg's auc: 0.855776 + 0.0107906\n",
      "0.8558782010184699\n"
     ]
    }
   ],
   "source": [
    "data = pd.DataFrame(data = [el for el in train.groupby('cl_id', sort = False).apply(analyze)])\n",
    "data = (data - np.mean(data, axis = 0))/np.std(data, axis = 0)\n",
    "lgb_data_train = lgb.Dataset(data, labels, free_raw_data=False)\n",
    "params = {\n",
    "    'objective':'binary', 'metric': 'auc', 'learning_rate': 0.01,  'random_state':4242442,\n",
    "    'subsample':0.33,\n",
    "    'class_weight':'balanced',\n",
    "    'colsample_bytree':0.33,\n",
    "    #'reg_lambda':4\n",
    "}\n",
    "\n",
    "\n",
    "\n",
    "h = lgb.cv(params, lgb_data_train,  num_boost_round=10000, \n",
    "           early_stopping_rounds=50, verbose_eval=50, folds=skf.split(data, labels))\n",
    "\n",
    "print(list(h.values())[0][-1])"
   ]
  }
 ],
 "metadata": {
  "kernelspec": {
   "display_name": "Python 3",
   "language": "python",
   "name": "python3"
  },
  "language_info": {
   "codemirror_mode": {
    "name": "ipython",
    "version": 3
   },
   "file_extension": ".py",
   "mimetype": "text/x-python",
   "name": "python",
   "nbconvert_exporter": "python",
   "pygments_lexer": "ipython3",
   "version": "3.6.3"
  }
 },
 "nbformat": 4,
 "nbformat_minor": 2
}
