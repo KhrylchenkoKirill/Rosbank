{
 "cells": [
  {
   "cell_type": "code",
   "execution_count": 1,
   "metadata": {},
   "outputs": [],
   "source": [
    "import numpy as np, pandas as pd\n",
    "from collections import Counter\n",
    "from tqdm import tqdm_notebook\n",
    "import datetime\n",
    "\n",
    "from rosbank import cashflow"
   ]
  },
  {
   "cell_type": "code",
   "execution_count": 2,
   "metadata": {
    "collapsed": true
   },
   "outputs": [],
   "source": [
    "train = pd.read_csv(\"./train.csv\")\n",
    "test = pd.read_csv(\"./test.csv\")\n",
    "labels = np.load('./labels.npy')\n",
    "for df in [train, test]:\n",
    "    df['date'] = df['date'].apply(lambda x: datetime.date(int(x[:4]), int(x[5:7]), int(x[8:])))\n",
    "    df['time'] = df['time'].apply(lambda x: datetime.time(int(x[:2]), int(x[3:5]), int(x[6:])))"
   ]
  },
  {
   "cell_type": "code",
   "execution_count": 3,
   "metadata": {
    "collapsed": true
   },
   "outputs": [],
   "source": [
    "trx_categories = list(set(train['trx_category'].unique()))"
   ]
  },
  {
   "cell_type": "code",
   "execution_count": 4,
   "metadata": {
    "collapsed": true
   },
   "outputs": [],
   "source": [
    "mcc_descr = np.load(\"./mcc_codes.npy\").item()\n",
    "mcc_groups = list(set([mcc_descr[el]['group'] for el in mcc_descr]))\n",
    "\n",
    "hc_groups = np.load(\"./handcrafted_mcc_groups.npy\").item()\n",
    "hc_descr = {}\n",
    "for group in hc_groups:\n",
    "    for el in hc_groups[group]:\n",
    "        hc_descr[el] = group\n",
    "for el in [el for el in mcc_descr if not el in hc_descr]:\n",
    "    hc_descr[el] = 'other'\n",
    "    \n",
    "hc_groups = list(set([hc_descr[el] for el in hc_descr]))"
   ]
  },
  {
   "cell_type": "code",
   "execution_count": 5,
   "metadata": {
    "collapsed": true
   },
   "outputs": [],
   "source": [
    "category_signs = {\n",
    "    'POS': -1, 'DEPOSIT': 1, 'C2C_OUT': -1, 'C2C_IN': 1, 'WD_ATM_PARTNER': -1, 'WD_ATM_ROS': -1, \n",
    "    'BACK_TRX': 1, 'WD_ATM_OTHER': -1, 'CASH_ADV': -1, 'CAT': -1\n",
    "}"
   ]
  },
  {
   "cell_type": "code",
   "execution_count": 6,
   "metadata": {
    "collapsed": true
   },
   "outputs": [],
   "source": [
    "def monotone(array):\n",
    "    if len(array) <= 1:\n",
    "        return 1.\n",
    "    else:\n",
    "        return np.mean([array[i+1] > array[i] for i in np.arange(len(array)-1)])\n",
    "    \n",
    "def analyze_srt_amounts(amounts):\n",
    "    features = []\n",
    "    if len(amounts) == 0:\n",
    "        return [0] * 11\n",
    "    log_amounts = [np.log(el) for el in amounts]\n",
    "    features += [monotone(amounts)]\n",
    "    \n",
    "    if len(amounts) > 1:\n",
    "        diff = [log_amounts[i+1] - log_amounts[i] for i in np.arange(len(amounts) - 1)]\n",
    "        features += [np.max(diff), np.mean(diff)]\n",
    "        features += list(np.percentile(diff, [5, 25, 50, 75, 80, 95]))\n",
    "        features += [monotone(diff)]\n",
    "    else:\n",
    "        features += [0] * 9\n",
    "        \n",
    "    for i in np.arange(1, len(amounts) + 1):\n",
    "        s1 = np.sum(amounts[:i])\n",
    "        s2 = np.sum(amounts[i:])\n",
    "        if s1 >= s2:\n",
    "            features += [i/len(amounts)]\n",
    "            break\n",
    "    return features\n",
    "\n",
    "def analyze_amounts(amounts):\n",
    "    features = []\n",
    "    n = len(amounts)\n",
    "    if n == 0.:\n",
    "        features += [0] * 7\n",
    "    else:\n",
    "        features += [n, np.sum(amounts), np.mean(amounts), np.max(amounts), np.median(amounts),\n",
    "               np.std(amounts), np.min(amounts)]\n",
    "    return features"
   ]
  },
  {
   "cell_type": "code",
   "execution_count": 7,
   "metadata": {
    "collapsed": true
   },
   "outputs": [],
   "source": [
    "def analyze_cash(user):\n",
    "    features = []\n",
    "    history = cashflow(user)\n",
    "    ###########\n",
    "    signed_amounts = []\n",
    "    pos_amounts = []\n",
    "    hc_amounts = {}\n",
    "    for name in hc_groups:\n",
    "        hc_amounts[name] = []\n",
    "    trx_amounts = {}\n",
    "    for name in trx_categories:\n",
    "        trx_amounts[name] = []\n",
    "    ###########  \n",
    "    for date in history:\n",
    "        for trx_category in history[date]:\n",
    "            trx_sign = category_signs[trx_category]\n",
    "            trx_value = 0\n",
    "            for mcc_category in history[date][trx_category]:\n",
    "                hc_group = hc_descr.get(mcc_category, 0.0)\n",
    "                mcc_value = np.sum(history[date][trx_category][mcc_category])\n",
    "                trx_value += mcc_value\n",
    "                if hc_group != 0.:\n",
    "                    hc_amounts[hc_group] += [mcc_value]\n",
    "            trx_amounts[trx_category] += [trx_value]\n",
    "            signed_amounts += [trx_sign * trx_value]\n",
    "            if trx_sign == 1.:\n",
    "                pos_amounts += [trx_value]\n",
    "    ##########\n",
    "    for name in hc_groups:       \n",
    "        features += analyze_amounts(hc_amounts[name])\n",
    "    for name in trx_categories:       \n",
    "        features += analyze_amounts(trx_amounts[name])\n",
    "    for arr in [signed_amounts, pos_amounts]:\n",
    "        features += analyze_amounts(arr)\n",
    "        \n",
    "    account = np.array([sum(signed_amounts[:i]) for i in np.arange(1, len(signed_amounts) + 1)])\n",
    "    if account[-1] < 0:\n",
    "        features += [0]\n",
    "    else:\n",
    "        features += [1]\n",
    "    account = 1. + account - np.min(account)\n",
    "    features += analyze_srt_amounts(account)\n",
    "    return features"
   ]
  },
  {
   "cell_type": "code",
   "execution_count": 8,
   "metadata": {
    "collapsed": true
   },
   "outputs": [],
   "source": [
    "def analyze(user):\n",
    "    features = []\n",
    "    features += analyze_cash(user)\n",
    "    \n",
    "    for currency in ['RUB', 'USD', 'EUR']:\n",
    "        features += analyze_amounts(sorted(user[user['currency'] == currency]['amount'].values))\n",
    "      \n",
    "    last_date = np.max(user['date'])\n",
    "    for n in [7, 31]:\n",
    "        features += analyze_cash(user[user['date'].apply(lambda x: (last_date - x).days <= n)])\n",
    "    first_date = np.min(user['date'])\n",
    "    for n in [31]:\n",
    "        features += analyze_cash(user[user['date'].apply(lambda x: (x - first_date).days <= n)])\n",
    "    return features\n",
    "    "
   ]
  },
  {
   "cell_type": "code",
   "execution_count": 10,
   "metadata": {
    "collapsed": true
   },
   "outputs": [],
   "source": [
    "from sklearn.model_selection import RepeatedStratifiedKFold\n",
    "skf = RepeatedStratifiedKFold(n_splits=8, n_repeats=2, random_state=201805)\n",
    "import lightgbm as lgb"
   ]
  },
  {
   "cell_type": "code",
   "execution_count": 11,
   "metadata": {},
   "outputs": [
    {
     "name": "stdout",
     "output_type": "stream",
     "text": [
      "[50]\tcv_agg's auc: 0.814598 + 0.00900034\n",
      "[100]\tcv_agg's auc: 0.81854 + 0.00889604\n",
      "[150]\tcv_agg's auc: 0.822116 + 0.00893029\n",
      "[200]\tcv_agg's auc: 0.82646 + 0.00911823\n",
      "[250]\tcv_agg's auc: 0.829447 + 0.0092842\n",
      "[300]\tcv_agg's auc: 0.831587 + 0.00941526\n",
      "[350]\tcv_agg's auc: 0.833269 + 0.00941938\n",
      "[400]\tcv_agg's auc: 0.834685 + 0.00958308\n",
      "[450]\tcv_agg's auc: 0.835517 + 0.00965495\n",
      "[500]\tcv_agg's auc: 0.836278 + 0.00943598\n",
      "[550]\tcv_agg's auc: 0.836853 + 0.00945099\n",
      "[600]\tcv_agg's auc: 0.837247 + 0.00931908\n",
      "[650]\tcv_agg's auc: 0.837651 + 0.00935247\n",
      "[700]\tcv_agg's auc: 0.838016 + 0.0093938\n",
      "[750]\tcv_agg's auc: 0.838297 + 0.00940402\n",
      "[800]\tcv_agg's auc: 0.83837 + 0.00928502\n",
      "[850]\tcv_agg's auc: 0.838434 + 0.00919136\n",
      "[900]\tcv_agg's auc: 0.838606 + 0.00913803\n",
      "[950]\tcv_agg's auc: 0.838685 + 0.00932019\n",
      "[1000]\tcv_agg's auc: 0.838748 + 0.00921612\n",
      "[1050]\tcv_agg's auc: 0.838856 + 0.00925641\n",
      "0.8388973150627456\n"
     ]
    }
   ],
   "source": [
    "data = pd.DataFrame(data = [el for el in train.groupby('cl_id', sort = False).apply(analyze)])\n",
    "data = (data - np.mean(data, axis = 0))/np.std(data, axis = 0)\n",
    "lgb_data_train = lgb.Dataset(data, labels, free_raw_data=False)\n",
    "params = {\n",
    "    'objective':'binary', 'metric': 'auc', 'learning_rate': 0.01,  'random_state':4242442,\n",
    "    'subsample':0.33,\n",
    "    'class_weight':'balanced',\n",
    "    'colsample_bytree':0.33,\n",
    "    'reg_lambda':4\n",
    "}\n",
    "\n",
    "\n",
    "\n",
    "h = lgb.cv(params, lgb_data_train,  num_boost_round=10000, \n",
    "           early_stopping_rounds=50, verbose_eval=50, folds=skf.split(data, labels))\n",
    "\n",
    "print(list(h.values())[0][-1])"
   ]
  }
 ],
 "metadata": {
  "kernelspec": {
   "display_name": "Python 3",
   "language": "python",
   "name": "python3"
  },
  "language_info": {
   "codemirror_mode": {
    "name": "ipython",
    "version": 3
   },
   "file_extension": ".py",
   "mimetype": "text/x-python",
   "name": "python",
   "nbconvert_exporter": "python",
   "pygments_lexer": "ipython3",
   "version": "3.6.3"
  }
 },
 "nbformat": 4,
 "nbformat_minor": 2
}
