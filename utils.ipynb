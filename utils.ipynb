{
 "cells": [
  {
   "cell_type": "code",
   "execution_count": 57,
   "metadata": {
    "collapsed": true
   },
   "outputs": [],
   "source": [
    "import numpy as np, pandas as pd\n",
    "import datetime"
   ]
  },
  {
   "cell_type": "code",
   "execution_count": 58,
   "metadata": {
    "collapsed": true
   },
   "outputs": [],
   "source": [
    "# загрузка данных\n",
    "\n",
    "train = pd.read_csv(\"./init_train.csv\")\n",
    "test = pd.read_csv(\"./init_test.csv\")"
   ]
  },
  {
   "cell_type": "code",
   "execution_count": 59,
   "metadata": {},
   "outputs": [],
   "source": [
    "# преобразование дат в удобный формат\n",
    "\n",
    "months = {\n",
    "    'JAN': 1, 'FEB': 2, 'MAR': 3, 'APR': 4, 'MAY': 5, 'JUN': 6,\n",
    "    'JUL': 7, 'AUG': 8, 'SEP': 9, 'OCT': 10, 'NOV': 11, 'DEC': 12\n",
    "}\n",
    "\n",
    "def str2date(text):\n",
    "    return datetime.date(2000 + int(text[-2:]), months[text[2:5]], int(text[:2]))\n",
    "\n",
    "def str2time(text):\n",
    "    return datetime.time(int(text[:2]), int(text[3:5]), int(text[6:]))\n",
    "\n",
    "for df in [train, test]:\n",
    "    df['date'] = df['TRDATETIME'].apply(lambda x: str2date(x[:7]))\n",
    "    df['time'] = df['TRDATETIME'].apply(lambda x: str2time(x[8:]))\n",
    "    df.drop(['TRDATETIME', 'PERIOD'], axis = 1, inplace = True)\n",
    "    \n",
    "dates = list(set(train['date'].unique()).union(set(test['date'].unique())))"
   ]
  },
  {
   "cell_type": "code",
   "execution_count": 9,
   "metadata": {},
   "outputs": [],
   "source": [
    "# сохраняем метки класса как numpy массив\n",
    "labels = train[['cl_id', 'target_flag']].groupby('cl_id', sort = False).mean()['target_flag'].values\n",
    "np.save('./labels.npy', labels)"
   ]
  },
  {
   "cell_type": "code",
   "execution_count": 60,
   "metadata": {},
   "outputs": [],
   "source": [
    "currencies = set(train['currency'].unique()).union(test['currency'].unique())"
   ]
  },
  {
   "cell_type": "code",
   "execution_count": 61,
   "metadata": {},
   "outputs": [],
   "source": [
    "# преобразование цифровых кодов валют в трехбуквенный формат\n",
    "import iso4217parse\n",
    "\n",
    "code2curr = dict([(curr, iso4217parse.parse(int(curr))[0][0]) for curr in currencies if curr != 810])\n",
    "code2curr[810] = 'RUB'\n",
    "\n",
    "for df in [train, test]:\n",
    "    df['currency'] = df['currency'].apply(lambda x: code2curr[x])"
   ]
  },
  {
   "cell_type": "code",
   "execution_count": 62,
   "metadata": {
    "collapsed": true
   },
   "outputs": [],
   "source": [
    "#\n",
    "from currency_converter import CurrencyConverter\n",
    "\n",
    "conv = CurrencyConverter(fallback_on_missing_rate=True, fallback_on_wrong_date=True)\n",
    "converter_currencies = conv.currencies\n",
    "\n",
    "# какие-то валюты просто погуглил на данный момент\n",
    "# пробовал цб, рбк валюты - не очень работают\n",
    "missing_currencies = {'NAD': 0.20033263, 'TWD': 0.47458577, 'NPR': 1.69867921, 'AED': 0.05848635, 'LKR': 2.50820435, \n",
    "                'TND': 0.03879050, 'KES': 1.59947001, 'ARS': 0.32722322, 'UGX': 59.24062151, 'COP': 44.73694845, \n",
    "                'BSD': 0.01592499, 'RSD': 1.56611873, 'BHD': 0.00599454, 'SCR': 0.21460415, 'CRC': 9.01095250, \n",
    "                'VND': 362.20724787, 'MOP': 0.12900691, 'MVR': 0.24655653, 'BAM': 0.02595629, 'GEL': 0.03914975, \n",
    "                'DOP': 0.78806470, 'PEN': 0.05181999, 'MUR': 0.54451015, 'MNT': 38.29211235, 'MAD': 0.14872383, \n",
    "                'QAR': 0.05798403}\n",
    "\n",
    "def get_rubbles(amount, currency, day):\n",
    "    if currency == 'RUB':\n",
    "        return amount\n",
    "    else:\n",
    "        \n",
    "        \n",
    "        if currency in converter_currencies:\n",
    "            return conv.convert(amount, currency, 'RUB', date = day)\n",
    "        \n",
    "        if currency in list(missing_currencies):\n",
    "            return amount / missing_currencies[currency]\n",
    "        return amount\n",
    "    \n",
    "for df in [train, test]:\n",
    "    df['amount'] = df.apply(lambda x: get_rubbles(x['amount'], x['currency'], x['date']), axis = 1)"
   ]
  },
  {
   "cell_type": "code",
   "execution_count": 63,
   "metadata": {
    "collapsed": true
   },
   "outputs": [],
   "source": [
    "# дисконтирование всех денежных потоков к самому первому дню в данных\n",
    "delta = np.log(1 + 0.09)\n",
    "first_day = np.min(train['date'].values)\n",
    "\n",
    "# финансовый год - 360 дней\n",
    "def discount(amount, day):\n",
    "    return amount * np.exp(delta * (first_day - day).days/360)\n",
    "\n",
    "for df in [train, test]:\n",
    "    df['amount'] = df.apply(lambda x: discount(x['amount'], x['date']), axis = 1)"
   ]
  },
  {
   "cell_type": "code",
   "execution_count": 64,
   "metadata": {
    "collapsed": true
   },
   "outputs": [],
   "source": [
    "# заполняем NaN в столбце 'channel_type' как нулевой тип\n",
    "for df in [train, test]:\n",
    "    df.fillna('type0', inplace = True)"
   ]
  },
  {
   "cell_type": "code",
   "execution_count": 65,
   "metadata": {
    "collapsed": true
   },
   "outputs": [],
   "source": [
    "train.to_csv(\"./train.csv\", index = False)\n",
    "test.to_csv(\"./test.csv\", index = False)"
   ]
  }
 ],
 "metadata": {
  "kernelspec": {
   "display_name": "Python 3",
   "language": "python",
   "name": "python3"
  },
  "language_info": {
   "codemirror_mode": {
    "name": "ipython",
    "version": 3
   },
   "file_extension": ".py",
   "mimetype": "text/x-python",
   "name": "python",
   "nbconvert_exporter": "python",
   "pygments_lexer": "ipython3",
   "version": "3.6.3"
  }
 },
 "nbformat": 4,
 "nbformat_minor": 2
}
