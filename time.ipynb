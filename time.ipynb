{
 "cells": [
  {
   "cell_type": "code",
   "execution_count": 245,
   "metadata": {
    "collapsed": true
   },
   "outputs": [],
   "source": [
    "import numpy as np, pandas as pd\n",
    "from collections import Counter\n",
    "import datetime"
   ]
  },
  {
   "cell_type": "code",
   "execution_count": 246,
   "metadata": {},
   "outputs": [],
   "source": [
    "# загрузка данных\n",
    "\n",
    "train = pd.read_csv(\"./train.csv\")\n",
    "test = pd.read_csv(\"./test.csv\")\n",
    "labels = np.load('./labels.npy')"
   ]
  },
  {
   "cell_type": "code",
   "execution_count": 247,
   "metadata": {},
   "outputs": [],
   "source": [
    "# возращаем формат datetime для дат\n",
    "for df in [train, test]:\n",
    "    df['date'] = df['date'].apply(lambda x: datetime.date(int(x[:4]), int(x[5:7]), int(x[8:])))\n",
    "    df['time'] = df['time'].apply(lambda x: datetime.time(int(x[:2]), int(x[3:5]), int(x[6:])))\n",
    "\n",
    "# самая первая дата в данных\n",
    "oldest_date = min(set((train['date'].unique())).union(test['date'].unique()))\n",
    "\n",
    "# все различные trx типы транзакций\n",
    "trx_categories = list(set(train['trx_category'].unique()).union(test['trx_category']))\n",
    "\n",
    "# знаки операций\n",
    "trx_signs = {\n",
    "    'POS': -1, 'DEPOSIT': 1, 'C2C_OUT': -1, 'C2C_IN': 1, 'WD_ATM_PARTNER': -1, 'WD_ATM_ROS': -1, \n",
    "    'BACK_TRX': 1, 'WD_ATM_OTHER': -1, 'CASH_ADV': -1, 'CAT': -1\n",
    "}"
   ]
  },
  {
   "cell_type": "code",
   "execution_count": 248,
   "metadata": {
    "collapsed": true
   },
   "outputs": [],
   "source": [
    "# метод cashflow представляет юзера в виде удобного для анализа словаря\n",
    "from rosbank import cashflow"
   ]
  },
  {
   "cell_type": "code",
   "execution_count": 249,
   "metadata": {
    "collapsed": true
   },
   "outputs": [],
   "source": [
    "# отдельная группа дат обрабатывается следующим образом\n",
    "def get_stats(dates):\n",
    "    if len(dates) == 0:\n",
    "        return [0] * 11\n",
    "    else:\n",
    "        features = []\n",
    "\n",
    "        time = [(date - oldest_date).days/360 for date in dates]\n",
    "        features += [time[-1] - time[0], np.std(time), np.median(time), np.mean(time), np.max(time)]\n",
    "\n",
    "        if len(dates) > 1:\n",
    "            diff = [(time[i+1] - time[i]) for i in np.arange(len(dates)-1)]\n",
    "            features += [np.mean(diff), np.max(diff), np.min(diff), np.std(diff)]\n",
    "            features += list(np.percentile(diff, [50, 95]))\n",
    "        else:\n",
    "            features += [0] * 6\n",
    "    \n",
    "        return features"
   ]
  },
  {
   "cell_type": "code",
   "execution_count": 250,
   "metadata": {},
   "outputs": [],
   "source": [
    "# данная функция применяет get_stats к нескольким группам дат (по типу транзакций, по типу знака транзакции, \n",
    "# и всё вместе)\n",
    "def analyze(user):\n",
    "    history = cashflow(user)\n",
    "    \n",
    "    trx_dates = dict((cat, []) for cat in trx_categories)\n",
    "    signed_dates = {1: [], -1: []}\n",
    "    \n",
    "    for date in history:\n",
    "        for trx_category in history[date]:\n",
    "            trx_dates[trx_category].append(date)\n",
    "            signed_dates[trx_signs[trx_category]].append(date)\n",
    "          \n",
    "    features = get_stats(list(history))\n",
    "    for curr_dates in [list(history)] + [trx_dates[cat] \n",
    "                                         for cat in trx_categories] + [signed_dates[1], signed_dates[-1]]:\n",
    "        features += get_stats(curr_dates)\n",
    "        if len(curr_dates) == 0.:\n",
    "            features += [0] * 20\n",
    "        \n",
    "        else:\n",
    "            last_calendar_month = np.max(curr_dates).month\n",
    "            features += get_stats([date for date in curr_dates if date.month == last_calendar_month])\n",
    "            \n",
    "            months = list(Counter([day.month for day in curr_dates]).values())\n",
    "            features += [np.mean(months), np.median(months), np.max(months), np.min(months), np.std(months)]\n",
    "            \n",
    "            # категориальный признак, показывающий в какую четверть года попадает последний календарный месяц\n",
    "            if last_calendar_month in [1, 2, 3]:\n",
    "                features += [1, 0, 0, 0]\n",
    "            elif last_calendar_month in [4, 5, 6]:\n",
    "                features += [0, 1, 0, 0]\n",
    "            elif last_calendar_month in [7, 8, 9]:\n",
    "                features += [0, 0, 1, 0]\n",
    "            else:\n",
    "                features += [0, 0, 0, 1]\n",
    "    return features"
   ]
  },
  {
   "cell_type": "code",
   "execution_count": 256,
   "metadata": {},
   "outputs": [],
   "source": [
    "# непосредственное применение функций\n",
    "data = pd.DataFrame([el for el in train.groupby('cl_id', sort = False).apply(analyze).values])"
   ]
  },
  {
   "cell_type": "code",
   "execution_count": 253,
   "metadata": {
    "collapsed": true
   },
   "outputs": [],
   "source": [
    "# кросс-валидация\n",
    "\n",
    "from lightgbm import LGBMClassifier\n",
    "from sklearn.model_selection import train_test_split, StratifiedKFold\n",
    "from sklearn.metrics import roc_auc_score, log_loss\n",
    "\n",
    "kfold = StratifiedKFold(n_splits = 10, random_state = 2, shuffle = True)\n",
    "splits = [el for el in kfold.split(np.zeros(len(labels)), labels)]"
   ]
  },
  {
   "cell_type": "code",
   "execution_count": 254,
   "metadata": {
    "collapsed": true
   },
   "outputs": [],
   "source": [
    "def get_score(data):\n",
    "    scores = []\n",
    "    for i in np.arange(10):\n",
    "        tr, te = splits[i]\n",
    "        train_X, train_y = data.values[tr], labels[tr]\n",
    "        test_X, test_y = data.values[te], labels[te]\n",
    "        gbm = LGBMClassifier(n_estimators = 50000, learning_rate = 0.1, subsample = 0.5,\n",
    "                             colsample_bytree=0.8)\n",
    "        gbm.fit(train_X, train_y, eval_set = (test_X, test_y), early_stopping_rounds = 300, \n",
    "                verbose = False)\n",
    "        pred = gbm.predict_proba(test_X)[:, 1]\n",
    "        scores.append(roc_auc_score(y_score = pred, y_true = test_y))\n",
    "        print(i + 1, \"iteration:\", scores[-1])\n",
    "    print(\"CV score:\", np.mean(scores))"
   ]
  },
  {
   "cell_type": "code",
   "execution_count": 257,
   "metadata": {},
   "outputs": [
    {
     "name": "stdout",
     "output_type": "stream",
     "text": [
      "1 iteration: 0.8419127127385251\n",
      "2 iteration: 0.8508412841670963\n",
      "3 iteration: 0.8825103145951521\n",
      "4 iteration: 0.8563403538877467\n",
      "5 iteration: 0.8614722118793607\n",
      "6 iteration: 0.8353515403668388\n",
      "7 iteration: 0.833093199073999\n",
      "8 iteration: 0.8804997725352571\n",
      "9 iteration: 0.8342919347501139\n",
      "10 iteration: 0.8413595892636639\n",
      "CV score: 0.8517672913257753\n"
     ]
    }
   ],
   "source": [
    "# для улучшения качества следует поиграться с параметрами (типа learning rate)\n",
    "# также некоторые признаки из get_stats точно можно отбросить + напридумывать других делений на даты\n",
    "# например, будни и выходые\n",
    "get_score(data)"
   ]
  }
 ],
 "metadata": {
  "kernelspec": {
   "display_name": "Python 3",
   "language": "python",
   "name": "python3"
  },
  "language_info": {
   "codemirror_mode": {
    "name": "ipython",
    "version": 3
   },
   "file_extension": ".py",
   "mimetype": "text/x-python",
   "name": "python",
   "nbconvert_exporter": "python",
   "pygments_lexer": "ipython3",
   "version": "3.6.3"
  }
 },
 "nbformat": 4,
 "nbformat_minor": 2
}
