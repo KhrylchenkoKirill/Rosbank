{
 "cells": [
  {
   "cell_type": "code",
   "execution_count": 1,
   "metadata": {
    "collapsed": true
   },
   "outputs": [],
   "source": [
    "import numpy as np, pandas as pd\n",
    "from collections import Counter\n",
    "import scipy.stats as sts\n",
    "import datetime"
   ]
  },
  {
   "cell_type": "code",
   "execution_count": 4,
   "metadata": {
    "collapsed": true
   },
   "outputs": [],
   "source": [
    "# загрузка данных\n",
    "\n",
    "train = pd.read_csv(\"./train.csv\")\n",
    "test = pd.read_csv(\"./test.csv\")\n",
    "labels = np.load('./labels.npy')"
   ]
  },
  {
   "cell_type": "code",
   "execution_count": 5,
   "metadata": {},
   "outputs": [],
   "source": [
    "# возращаем формат datetime для дат\n",
    "for df in [train, test]:\n",
    "    df['date'] = df['date'].apply(lambda x: datetime.date(int(x[:4]), int(x[5:7]), int(x[8:])))\n",
    "    df['time'] = df['time'].apply(lambda x: datetime.time(int(x[:2]), int(x[3:5]), int(x[6:])))\n",
    "\n",
    "# самая первая дата в данных\n",
    "oldest_date = min(set((train['date'].unique())).union(test['date'].unique()))\n",
    "\n",
    "# все различные trx типы транзакций\n",
    "trx_categories = list(set(train['trx_category'].unique()).union(test['trx_category']))\n",
    "\n",
    "# знаки операций\n",
    "trx_signs = {\n",
    "    'POS': -1, 'DEPOSIT': 1, 'C2C_OUT': -1, 'C2C_IN': 1, 'WD_ATM_PARTNER': -1, 'WD_ATM_ROS': -1, \n",
    "    'BACK_TRX': 1, 'WD_ATM_OTHER': -1, 'CASH_ADV': -1, 'CAT': -1\n",
    "}"
   ]
  },
  {
   "cell_type": "code",
   "execution_count": 6,
   "metadata": {
    "collapsed": true
   },
   "outputs": [],
   "source": [
    "# метод cashflow представляет юзера в виде удобного для анализа словаря\n",
    "from rosbank import cashflow"
   ]
  },
  {
   "cell_type": "code",
   "execution_count": 36,
   "metadata": {
    "collapsed": true
   },
   "outputs": [],
   "source": [
    "\n",
    "\n",
    "# проверка монотонности\n",
    "def monotone(array):\n",
    "    if len(array) <= 1:\n",
    "        return 1.\n",
    "    else:\n",
    "        return np.mean([array[i+1] > array[i] for i in np.arange(len(array)-1)])\n",
    "    \n",
    "# анализ массива трат как неупорядоченного множества\n",
    "def analyze_amounts(amounts):\n",
    "    if len(amounts) == 0.:\n",
    "        return [0] * 14\n",
    "    else:\n",
    "        features = []\n",
    "        log_amounts = [np.log(amount) for amount in amounts]\n",
    "        features += [np.min(log_amounts), np.max(log_amounts), np.max(log_amounts) - np.min(log_amounts), \n",
    "                     np.log(np.sum(amounts)), np.sum(log_amounts), np.std(log_amounts), np.std(amounts), \n",
    "                     sts.skew(amounts)]\n",
    "        features += list(np.percentile(amounts, [5, 25, 50, 75, 80, 95]))\n",
    "        return features\n",
    "\n",
    "# анализ массива трат с учетом порядка операций\n",
    "def analyze_srt_amounts(amounts):\n",
    "    features = []\n",
    "    if len(amounts) == 0:\n",
    "        return [0] * 13\n",
    "    log_amounts = [np.log(el) for el in amounts]\n",
    "    features += [log_amounts[0], log_amounts[-1], monotone(amounts)]\n",
    "    \n",
    "    if len(amounts) > 1:\n",
    "        diff = [log_amounts[i+1] - log_amounts[i] for i in np.arange(len(amounts) - 1)]\n",
    "        features += [np.max(diff), np.mean(diff)]\n",
    "        features += list(np.percentile(diff, [5, 25, 50, 75, 80, 95]))\n",
    "        features += [monotone(diff)]\n",
    "    else:\n",
    "        features += [0] * 9\n",
    "        \n",
    "    for i in np.arange(1, len(amounts) + 1):\n",
    "        s1 = np.sum(amounts[:i])\n",
    "        s2 = np.sum(amounts[i:])\n",
    "        if s1 >= s2:\n",
    "            features += [i/len(amounts)]\n",
    "            break\n",
    "    return features"
   ]
  },
  {
   "cell_type": "code",
   "execution_count": 37,
   "metadata": {},
   "outputs": [],
   "source": [
    "# анализирует траты для различных групп (аналогично времени)\n",
    "def get_amounts(history):\n",
    "\n",
    "    \n",
    "    trx_amounts = dict((cat, []) for cat in trx_categories)\n",
    "    amounts = []\n",
    "    signed_amounts = []\n",
    "\n",
    "    pos_amounts, neg_amounts = [], []\n",
    "        \n",
    "    for date in history:\n",
    "        for trx_category in history[date]:\n",
    "            # количество денег, фигурирующее за день по тому или иному типу транзакции\n",
    "            amount = np.sum([np.sum(history[date][trx_category][mcc]) for mcc in history[date][trx_category]])\n",
    "            amounts += [amount]\n",
    "            trx_amounts[trx_category] += [amount]\n",
    "            signed_amounts += [trx_signs[trx_category] * amount]\n",
    "                      \n",
    "            if trx_signs[trx_category] == 1:\n",
    "                pos_amounts += [amount]\n",
    "            else:\n",
    "                neg_amounts += [amount]\n",
    "            \n",
    "    features = []   \n",
    "    \n",
    "    for arr in [amounts, pos_amounts, neg_amounts] + [trx_amounts[cat] for cat in trx_categories]:\n",
    "        features += analyze_amounts(arr)\n",
    "        features += analyze_srt_amounts(arr)\n",
    "    \n",
    "    account = np.array([sum(signed_amounts[:i]) for i in np.arange(1, len(signed_amounts) + 1)])\n",
    "    account = 1 + account - np.min(account)\n",
    "    features += analyze_srt_amounts(account)\n",
    "    return features\n",
    "\n",
    "\n",
    "def analyze(user):\n",
    "    features = []\n",
    "    \n",
    "    history = cashflow(user)\n",
    "    # денежные характеристики по всей истории\n",
    "    features += get_amounts(history)\n",
    "        \n",
    "    # денежные характеристики за последний месяц\n",
    "    last_calendar_month = np.max(user['date'].values).month\n",
    "    last_month_history = cashflow(user[user['date'].apply(lambda x: x.month == last_calendar_month)])\n",
    "    features += get_amounts(last_month_history)\n",
    "    \n",
    "    #for currency in ['RUB', 'USD', 'EUR']:\n",
    "       # features += analyze_amounts(sorted(user[user['currency'] == currency]['amount'].values))\n",
    "    return features"
   ]
  },
  {
   "cell_type": "code",
   "execution_count": 38,
   "metadata": {},
   "outputs": [],
   "source": [
    "# непосредственное применение функций\n",
    "data = pd.DataFrame([el for el in train.groupby('cl_id', sort = False).apply(analyze).values])"
   ]
  },
  {
   "cell_type": "code",
   "execution_count": 39,
   "metadata": {
    "collapsed": true
   },
   "outputs": [],
   "source": [
    "data -= np.mean(data, axis = 0)\n",
    "data /= np.std(data, axis = 0)"
   ]
  },
  {
   "cell_type": "code",
   "execution_count": 40,
   "metadata": {
    "collapsed": true
   },
   "outputs": [],
   "source": [
    "# кросс-валидация\n",
    "\n",
    "from lightgbm import LGBMClassifier\n",
    "from sklearn.model_selection import train_test_split, StratifiedKFold\n",
    "from sklearn.metrics import roc_auc_score, log_loss\n",
    "\n",
    "kfold = StratifiedKFold(n_splits = 10, random_state = 2, shuffle = True)\n",
    "splits = [el for el in kfold.split(np.zeros(len(labels)), labels)]"
   ]
  },
  {
   "cell_type": "code",
   "execution_count": 41,
   "metadata": {
    "collapsed": true
   },
   "outputs": [],
   "source": [
    "def get_score(data):\n",
    "    scores = []\n",
    "    for i in np.arange(10):\n",
    "        tr, te = splits[i]\n",
    "        train_X, train_y = data.values[tr], labels[tr]\n",
    "        test_X, test_y = data.values[te], labels[te]\n",
    "        gbm = LGBMClassifier(n_estimators = 15000, learning_rate = 0.1, subsample = 0.5,\n",
    "                             colsample_bytree=0.8)\n",
    "        gbm.fit(train_X, train_y, eval_set = (test_X, test_y), early_stopping_rounds = 300, \n",
    "                verbose = False)\n",
    "        pred = gbm.predict_proba(test_X)[:, 1]\n",
    "        scores.append(roc_auc_score(y_score = pred, y_true = test_y))\n",
    "        #print(i + 1, \"iteration:\", scores[-1])\n",
    "    print(\"CV score:\", np.mean(scores))"
   ]
  },
  {
   "cell_type": "code",
   "execution_count": 42,
   "metadata": {},
   "outputs": [
    {
     "name": "stdout",
     "output_type": "stream",
     "text": [
      "CV score: 0.8303170613715395\n"
     ]
    }
   ],
   "source": [
    "# для улучшения качества следует поиграться с параметрами (типа learning rate)\n",
    "get_score(data)"
   ]
  }
 ],
 "metadata": {
  "kernelspec": {
   "display_name": "Python 3",
   "language": "python",
   "name": "python3"
  },
  "language_info": {
   "codemirror_mode": {
    "name": "ipython",
    "version": 3
   },
   "file_extension": ".py",
   "mimetype": "text/x-python",
   "name": "python",
   "nbconvert_exporter": "python",
   "pygments_lexer": "ipython3",
   "version": "3.6.3"
  }
 },
 "nbformat": 4,
 "nbformat_minor": 2
}
